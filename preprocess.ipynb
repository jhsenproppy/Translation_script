{
 "cells": [
  {
   "cell_type": "code",
   "execution_count": null,
   "metadata": {},
   "outputs": [],
   "source": [
    "import pandas as pd\n",
    "from googletrans import Translator\n",
    "from deep_translator import GoogleTranslator\n",
    "translator = Translator()\n",
    "\n",
    "# TODO change this. Read the Excel file\n",
    "df = pd.read_csv(r\"CSV FILE\")\n",
    "\n",
    "def translate_text(text, target_language):\n",
    "    if pd.isnull(text):  # If the text is NaN (missing)\n",
    "        return \"\"\n",
    "    return GoogleTranslator(source='en', target=target_language).translate(text)\n",
    "df['Chinese'] = df['Word'].apply(lambda x: translate_text(x, 'zh-CN'))\n",
    "df['Malay'] = df['Word'].apply(lambda x: translate_text(x, 'ms'))\n",
    "\n",
    "# TODO change this. \n",
    "df.to_csv(r\"CSV FILE\",index=False,encoding='utf_8_sig')"
   ]
  },
  {
   "cell_type": "code",
   "execution_count": null,
   "metadata": {},
   "outputs": [],
   "source": [
    "tkn = \"TOKEN\"\n",
    "mod = \"MODULE NAME\"\n",
    "import requests\n",
    "import json\n",
    "import pandas as pd\n",
    "\n",
    "# TODO CHANGE THIS. Load CSV file into a pandas DataFrame\n",
    "df = pd.read_csv(\"CSV FILE\")\n",
    "\n",
    "# Initialize an empty dictionary to store the translations\n",
    "translations = {\n",
    "    \"files\": [\n",
    "        {\n",
    "            \"name\": \"translations.json\",\n",
    "            \"content\": {\n",
    "                \"type\": \"json\",\n",
    "                \"en\": {},\n",
    "                \"zh_CN\": {},\n",
    "                \"ms\": {}\n",
    "            }\n",
    "        }\n",
    "    ]\n",
    "}\n",
    "\n",
    "# Iterate through the DataFrame and populate the translations dictionary\n",
    "for index, row in df.iterrows():\n",
    "    key = \"az\" + row['Word']\n",
    "    translations['files'][0]['content']['en'][key] = row['Word']\n",
    "    translations['files'][0]['content']['zh_CN'][key] = row['Chinese']\n",
    "    translations['files'][0]['content']['ms'][key] = row['Malay']\n",
    "\n",
    "# Convert the dictionary to JSON format\n",
    "output_json = json.dumps(translations)\n",
    "\n",
    "# API URL and token\n",
    "url = \"https://api.localazy.com/projects/\"+mod+\"/import\"\n",
    "headers = {\n",
    "    'Authorization': 'Bearer ' + tkn,  # Replace with your actual token\n",
    "    'Content-Type': 'application/json'\n",
    "}\n",
    "\n",
    "# Send POST request\n",
    "response = requests.post(url, headers=headers, data=output_json)\n",
    "\n",
    "# Check response status\n",
    "if response.status_code == 200:\n",
    "    print(\"Translations imported successfully!\")\n",
    "else:\n",
    "    print(f\"Failed to import translations. Status code: {response.status_code}\")\n",
    "    print(response.text)\n"
   ]
  }
 ],
 "metadata": {
  "kernelspec": {
   "display_name": "Python 3",
   "language": "python",
   "name": "python3"
  },
  "language_info": {
   "codemirror_mode": {
    "name": "ipython",
    "version": 3
   },
   "file_extension": ".py",
   "mimetype": "text/x-python",
   "name": "python",
   "nbconvert_exporter": "python",
   "pygments_lexer": "ipython3",
   "version": "3.12.5"
  }
 },
 "nbformat": 4,
 "nbformat_minor": 2
}
